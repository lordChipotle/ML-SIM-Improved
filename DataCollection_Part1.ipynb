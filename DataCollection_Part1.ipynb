{
  "nbformat": 4,
  "nbformat_minor": 0,
  "metadata": {
    "colab": {
      "name": "DataCollection-Part1.ipynb",
      "provenance": [],
      "authorship_tag": "ABX9TyO47HNYOYO7C+ZTZNbzJFC4",
      "include_colab_link": true
    },
    "kernelspec": {
      "name": "python3",
      "display_name": "Python 3"
    }
  },
  "cells": [
    {
      "cell_type": "markdown",
      "metadata": {
        "id": "view-in-github",
        "colab_type": "text"
      },
      "source": [
        "<a href=\"https://colab.research.google.com/github/lordChipotle/ML-SIM-Improved/blob/master/DataCollection_Part1.ipynb\" target=\"_parent\"><img src=\"https://colab.research.google.com/assets/colab-badge.svg\" alt=\"Open In Colab\"/></a>"
      ]
    },
    {
      "cell_type": "markdown",
      "metadata": {
        "id": "Tf5uA2Y5ft-B",
        "colab_type": "text"
      },
      "source": [
        "Data Gathering for ML-SIM (Part I)\n",
        "\n",
        "Author: Daniel Jian Huang\n",
        "\n",
        "This is a simple tutorial/shortcut on how to gather the suitable data for the experiments covered in Asymptomatic COVID 19 Prediction [https://www.medrxiv.org/content/10.1101/2020.04.19.20068072v1.full.pdf+html] (aka the ML-SIM[https://github.com/eyounx/MLSim]).\n",
        "\n",
        "Due to their copyrights obligation, they weren't able to release their original data but instead provided the dataset source [https://github.com/CSSEGISandData/COVID-19] (Data used for countries except China) and [https://github.com/BlankerL/DXY-COVID-19-Data] (Data used for cases in China).\n",
        "\n",
        "For our research, we've only focused on the data used for cases in countries except China due to the limited resource to gather the complementary population movement part of the data. The cases data for China, however, is available on the JHU Github (first link above) and can be gathered with similar method.\n",
        "\n",
        "This notebook is made as a part of the presentation for the Tracking Coronavirus Challenge (The New York Academy of Sciences). It also serves as as a shortcut for reasearchers who aren't so familiar with Data Cleansing or simply doesn't want to waste time on data formatting to quickstart on the aforementioned experiment.\n",
        "\n",
        "This is part 1. In order to get the complete data, please see part 2 (https://colab.research.google.com/drive/1y0F2L5s001Lxw0eAaXAsC-76PZjXD8Hm?usp=sharing) after producing corresponding csv files in part 1.\n"
      ]
    },
    {
      "cell_type": "code",
      "metadata": {
        "id": "hy0QavvXfiE8",
        "colab_type": "code",
        "colab": {}
      },
      "source": [
        "import pandas as pd "
      ],
      "execution_count": null,
      "outputs": []
    },
    {
      "cell_type": "markdown",
      "metadata": {
        "id": "U3hjPKMhfq6f",
        "colab_type": "text"
      },
      "source": [
        "Find the 'time_series_covid19_recovered_global.csv' file in the JHU github (https://github.com/CSSEGISandData/COVID-19), download it to your local drive, run the following code and upload the csv file.\n",
        "\n",
        "(Same method can be applied to the total confirmed global\" and the total death global files, you just need to change the name in the later on pd.read_csv section)\n"
      ]
    },
    {
      "cell_type": "code",
      "metadata": {
        "id": "lS3tFMjcf4_s",
        "colab_type": "code",
        "colab": {}
      },
      "source": [
        "from google.colab import files\n",
        "uploaded = files.upload()"
      ],
      "execution_count": null,
      "outputs": []
    },
    {
      "cell_type": "markdown",
      "metadata": {
        "id": "OD1zhiCdgEBT",
        "colab_type": "text"
      },
      "source": [
        "(Change the title here if you are processing the confirm or death total file)"
      ]
    },
    {
      "cell_type": "code",
      "metadata": {
        "id": "WJLJoapqgE5j",
        "colab_type": "code",
        "colab": {}
      },
      "source": [
        "import io\n",
        "df=pd.read_csv(io.BytesIO(uploaded['time_series_covid19_recovered_global.csv']))\n",
        "df"
      ],
      "execution_count": null,
      "outputs": []
    },
    {
      "cell_type": "code",
      "metadata": {
        "id": "xHTWcGkNgKjg",
        "colab_type": "code",
        "colab": {}
      },
      "source": [
        "listCorresponded = ['Beijing','Tianjing','Hebei','Shanxi','InnerMongoria','Liaoning','Jilin','Heilongjiang','Shanghai','Jiangsu','Zhejiang','Anhui','Fujian','Jiangxi','Shandong','Henan','Hubei','Hunan','Guangdong','Guangxi','Hainan','Chongqing','Sichuan','Guizhou','Yunnan','Tibet','Shanxi','Gansu','Qinghai','Ningxia','Xinjiang','HongKong','Macao','Taiwan','Singapore','Japan','SouthKorea','USA','Italy','UK','France','Germany','Iran','Spain']\n"
      ],
      "execution_count": null,
      "outputs": []
    },
    {
      "cell_type": "code",
      "metadata": {
        "id": "OiHjQZ4NgNz_",
        "colab_type": "code",
        "colab": {}
      },
      "source": [
        "countryList = ['Taiwan*','Singapore','Japan','Korea, South','US','Italy','United Kingdom','France','Germany','Iran','Spain']"
      ],
      "execution_count": null,
      "outputs": []
    },
    {
      "cell_type": "code",
      "metadata": {
        "id": "53T9lIwrgQZa",
        "colab_type": "code",
        "colab": {}
      },
      "source": [
        "df1 = df.loc[df['Country/Region'].isin(countryList)]"
      ],
      "execution_count": null,
      "outputs": []
    },
    {
      "cell_type": "code",
      "metadata": {
        "id": "bO6AFZmlgSpg",
        "colab_type": "code",
        "colab": {}
      },
      "source": [
        "df1"
      ],
      "execution_count": null,
      "outputs": []
    },
    {
      "cell_type": "code",
      "metadata": {
        "id": "LkT_BnGkgVI_",
        "colab_type": "code",
        "colab": {}
      },
      "source": [
        "boolSeries= pd.isnull(df1[\"Province/State\"]) \n",
        "dfCountries = df1[boolSeries]\n",
        "dfCountries"
      ],
      "execution_count": null,
      "outputs": []
    },
    {
      "cell_type": "code",
      "metadata": {
        "id": "NlU2154sgbLQ",
        "colab_type": "code",
        "colab": {}
      },
      "source": [
        "dfCountries[\"Country/Region\"].replace({'Taiwan*': 'Taiwan', 'Korea, South': 'SouthKorea','United Kingdom':'UK','US':'USA'}, inplace=True)"
      ],
      "execution_count": null,
      "outputs": []
    },
    {
      "cell_type": "code",
      "metadata": {
        "id": "Lu8aq2JqgeQ7",
        "colab_type": "code",
        "colab": {}
      },
      "source": [
        "dfCountries"
      ],
      "execution_count": null,
      "outputs": []
    },
    {
      "cell_type": "code",
      "metadata": {
        "id": "Hrt7vX2fgk0i",
        "colab_type": "code",
        "colab": {}
      },
      "source": [
        "dfCountries.to_csv('curedTotalCum.csv', encoding='utf-8', index=False)"
      ],
      "execution_count": null,
      "outputs": []
    },
    {
      "cell_type": "markdown",
      "metadata": {
        "id": "F9-EupTegoWo",
        "colab_type": "text"
      },
      "source": [
        "Apply the same method over to the confirmed and death files, then download them all to your local drive so you can upload them in part 2\n",
        "\n",
        "To continue onto part 2 see https://colab.research.google.com/drive/1y0F2L5s001Lxw0eAaXAsC-76PZjXD8Hm?usp=sharing"
      ]
    }
  ]
}