{
  "nbformat": 4,
  "nbformat_minor": 0,
  "metadata": {
    "colab": {
      "name": "DataCollection-Part3.ipynb",
      "provenance": [],
      "authorship_tag": "ABX9TyMBA3RMmFXupEZH+dBb7alM",
      "include_colab_link": true
    },
    "kernelspec": {
      "name": "python3",
      "display_name": "Python 3"
    }
  },
  "cells": [
    {
      "cell_type": "markdown",
      "metadata": {
        "id": "view-in-github",
        "colab_type": "text"
      },
      "source": [
        "<a href=\"https://colab.research.google.com/github/lordChipotle/ML-SIM-Improved/blob/master/DataCollection_Part3.ipynb\" target=\"_parent\"><img src=\"https://colab.research.google.com/assets/colab-badge.svg\" alt=\"Open In Colab\"/></a>"
      ]
    },
    {
      "cell_type": "markdown",
      "metadata": {
        "id": "wl7TIivni9K3",
        "colab_type": "text"
      },
      "source": [
        "Global Hospitalization Service Utilization Estimate Data formatter\n",
        "\n",
        "Source: http://www.healthdata.org/covid/data-downloads\n",
        "\n",
        "Author: Daniel Jian Huang\n",
        "\n",
        "A simple shortcut for formatting the ICU data and merging it with the main data in order to be incorporated into the ML-Sim Asymptomatic Infection Estimate experiment: https://github.com/eyounx/MLSim"
      ]
    },
    {
      "cell_type": "code",
      "metadata": {
        "id": "oOss-dfKi1dg",
        "colab_type": "code",
        "colab": {}
      },
      "source": [
        "import pandas as pd\n",
        "from google.colab import files\n",
        "uploaded = files.upload()"
      ],
      "execution_count": null,
      "outputs": []
    },
    {
      "cell_type": "code",
      "metadata": {
        "id": "pZcBgArajCBc",
        "colab_type": "code",
        "colab": {}
      },
      "source": [
        "listCorresponded = ['Republic of Korea','United States of America','Italy','United Kingdom','France','Germany']\n",
        "import io\n",
        "df=pd.read_csv(io.BytesIO(uploaded['Reference_hospitalization_all_locs.csv']))\n",
        "df"
      ],
      "execution_count": null,
      "outputs": []
    },
    {
      "cell_type": "code",
      "metadata": {
        "id": "e-fZxT-HjGk1",
        "colab_type": "code",
        "colab": {}
      },
      "source": [
        "dfK= df.loc[df['location_name']=='Republic of Korea']\n",
        "pd.set_option('display.max_rows', dfK.shape[0]+1)\n",
        "dfK.loc[dfK['date']<'2020-07-12']"
      ],
      "execution_count": null,
      "outputs": []
    },
    {
      "cell_type": "code",
      "metadata": {
        "id": "bRDWmKJsjJva",
        "colab_type": "code",
        "colab": {}
      },
      "source": [
        "dfAsym = df.loc[df['location_name'].isin(listCorresponded)]\n",
        "dfAsym = dfAsym[['location_name','date','icuover_mean']]\n",
        "dfAsym"
      ],
      "execution_count": null,
      "outputs": []
    },
    {
      "cell_type": "code",
      "metadata": {
        "id": "F5gKbf05jMTT",
        "colab_type": "code",
        "colab": {}
      },
      "source": [
        "it_dict = {110000: 'Beijing', 120000: 'Tianjin', 130000: 'Hebei',\n",
        "            140000: 'Shanxi', 150000: 'InnerMongoria', 210000: 'Liaoning',\n",
        "            220000: 'Jilin', 230000: 'Heilongjiang', 310000: 'Shanghai',\n",
        "            320000: 'Jiangsu', 330000: 'Zhejiang', 340000: 'Anhui',\n",
        "            350000: 'Fujian', 360000: 'Jiangxi', 370000: 'Shandong',\n",
        "            410000: 'Henan', 420000: 'Hubei', 430000: 'Hunan',\n",
        "            440000: 'Guangdong', 450000: 'Guangxi', 460000: 'Hainan',\n",
        "            500000: 'Chongqing', 510000: 'Sichuan', 520000: 'Guizhou',\n",
        "            530000: 'Yunnan', 540000: 'Tibet', 610000: 'Shanxi',\n",
        "            620000: 'Gansu', 630000: 'Qinghai', 640000: 'Ningxia',\n",
        "            650000: 'Xinjiang', 710000: 'Taiwan', 810000: 'HongKong',\n",
        "            820000: 'Macao', 900001: 'Singapore', 900002: 'Japan',\n",
        "            900003: 'Republic of Korea', 900004: 'United States of America', 900005: 'Italy',\n",
        "            900006: 'United Kingdom', 900007: 'France', 900008: 'Germany', 900009: 'Iran',\n",
        "            900010: 'Spain'}\n",
        "new_dict = dict([(value, key) for key, value in it_dict.items()]) "
      ],
      "execution_count": null,
      "outputs": []
    },
    {
      "cell_type": "code",
      "metadata": {
        "id": "1SRD7FP-jQPL",
        "colab_type": "code",
        "colab": {}
      },
      "source": [
        "mask = (dfAsym ['date']<'2020-07-12')\n",
        "dfAsym = dfAsym.loc[mask]"
      ],
      "execution_count": null,
      "outputs": []
    },
    {
      "cell_type": "code",
      "metadata": {
        "id": "vSxSSSnZjSY5",
        "colab_type": "code",
        "colab": {}
      },
      "source": [
        "dfAsym=dfAsym.rename({'location_name': 'adcode'}, axis=1)\n",
        "AsymFormatted = dfAsym.replace({\"adcode\": new_dict})\n",
        "AsymFormatted"
      ],
      "execution_count": null,
      "outputs": []
    },
    {
      "cell_type": "code",
      "metadata": {
        "id": "pD-wLlW2jUf3",
        "colab_type": "code",
        "colab": {}
      },
      "source": [
        "AsymFormatted.to_csv('ICUdata.csv', encoding='utf-8', index=False)"
      ],
      "execution_count": null,
      "outputs": []
    },
    {
      "cell_type": "markdown",
      "metadata": {
        "id": "FMQQsFa4jZ6v",
        "colab_type": "text"
      },
      "source": [
        "This section is for combining the ICU data with the main data (\"data_4-15-foreign.csv\"). Before uploading in the next cell, make a copy of the file and change the file name to \"main.csv\". "
      ]
    },
    {
      "cell_type": "code",
      "metadata": {
        "id": "YkKd5GGyjWwm",
        "colab_type": "code",
        "colab": {}
      },
      "source": [
        "import pandas as pd\n",
        "from google.colab import files\n",
        "uploaded = files.upload()"
      ],
      "execution_count": null,
      "outputs": []
    },
    {
      "cell_type": "code",
      "metadata": {
        "id": "FHiD4KMbjd_e",
        "colab_type": "code",
        "colab": {}
      },
      "source": [
        "import io\n",
        "dfMain=pd.read_csv(io.BytesIO(uploaded['main.csv']))\n",
        "dfMain"
      ],
      "execution_count": null,
      "outputs": []
    },
    {
      "cell_type": "code",
      "metadata": {
        "id": "u8odN7z7jgdv",
        "colab_type": "code",
        "colab": {}
      },
      "source": [
        "newMask = (dfMain ['date']>'2020-02-03')\n",
        "dfMain = dfMain.loc[newMask]"
      ],
      "execution_count": null,
      "outputs": []
    },
    {
      "cell_type": "code",
      "metadata": {
        "id": "OrjqxTtOjlEe",
        "colab_type": "code",
        "colab": {}
      },
      "source": [
        "dfMain"
      ],
      "execution_count": null,
      "outputs": []
    },
    {
      "cell_type": "code",
      "metadata": {
        "id": "dOrvQ01KjrJ1",
        "colab_type": "code",
        "colab": {}
      },
      "source": [
        "dfMain.to_csv('verifiMain.csv', encoding='utf-8', index=False)"
      ],
      "execution_count": null,
      "outputs": []
    },
    {
      "cell_type": "code",
      "metadata": {
        "id": "l3hvnrQFjtwt",
        "colab_type": "code",
        "colab": {}
      },
      "source": [
        "dfCombined=pd.merge(dfMain, AsymFormatted,how='outer', on=['adcode','date'])\n",
        "dfCombined"
      ],
      "execution_count": null,
      "outputs": []
    },
    {
      "cell_type": "code",
      "metadata": {
        "id": "71llaZifjv4o",
        "colab_type": "code",
        "colab": {}
      },
      "source": [
        "dfCombined=dfCombined.round(0)\n",
        "dfCombined"
      ],
      "execution_count": null,
      "outputs": []
    },
    {
      "cell_type": "code",
      "metadata": {
        "id": "bmSXTpmEjyqv",
        "colab_type": "code",
        "colab": {}
      },
      "source": [
        "dfCombined.to_csv('data_4-15-foreign.csv', encoding='utf-8', index=False)"
      ],
      "execution_count": null,
      "outputs": []
    },
    {
      "cell_type": "markdown",
      "metadata": {
        "id": "7L2aiIOEjziw",
        "colab_type": "text"
      },
      "source": [
        "\n",
        "Possible step from here:\n",
        "\n",
        "Mathematically approriate (see our presentation for detailed formula) the last 2 features into the delta parameter in the aforementioned research repo: https://github.com/eyounx/MLSim\n",
        "\n",
        "Our own git repo for experiments that include ICU beds data is currently still undergoing debugging process. Link: https://github.com/lordChipotle/ML-SIM-Improved"
      ]
    },
    {
      "cell_type": "markdown",
      "metadata": {
        "id": "wemCoQt7kFCs",
        "colab_type": "text"
      },
      "source": [
        "## **This section is only for running experiments on US data**\n",
        "Our experiments have shown that US is one of the outliers that ML-SIM models struggled to pertain. The reason why is due to the lack of proper introduction k parameter (human contact ratio), and it's likely due to lack of containment and other major events during the pandemic.\n",
        "\n",
        "If you wish to conduct similar experiments on data from the US States, here's a formatter for outputting similar csv files. However, it is your responsibility collect the corresponding data. It's possible that in the near future we will run similar experiments on US states data, do keep updated with us through our git repo!\n"
      ]
    },
    {
      "cell_type": "code",
      "metadata": {
        "id": "imu_32azkMVa",
        "colab_type": "code",
        "colab": {}
      },
      "source": [
        "states = [\"Alabama\",\"Alaska\",\"Arizona\",\"Arkansas\",\"California\",\"Colorado\",\n",
        "  \"Connecticut\",\"Delaware\",\"Florida\",\"Georgia\",\"Hawaii\",\"Idaho\",\"Illinois\",\n",
        "  \"Indiana\",\"Iowa\",\"Kansas\",\"Kentucky\",\"Louisiana\",\"Maine\",\"Maryland\",\n",
        "  \"Massachusetts\",\"Michigan\",\"Minnesota\",\"Mississippi\",\"Missouri\",\"Montana\",\n",
        "  \"Nebraska\",\"Nevada\",\"New Hampshire\",\"New Jersey\",\"New Mexico\",\"New York\",\n",
        "  \"North Carolina\",\"North Dakota\",\"Ohio\",\"Oklahoma\",\"Oregon\",\"Pennsylvania\",\n",
        "  \"Rhode Island\",\"South Carolina\",\"South Dakota\",\"Tennessee\",\"Texas\",\"Utah\",\n",
        "  \"Vermont\",\"Virginia\",\"Washington\",\"West Virginia\",\"Wisconsin\",\"Wyoming\"]"
      ],
      "execution_count": null,
      "outputs": []
    },
    {
      "cell_type": "code",
      "metadata": {
        "id": "kQiNEOAEkOYQ",
        "colab_type": "code",
        "colab": {}
      },
      "source": [
        "dfUS = df.loc[df['location_name'].isin(states)]\n",
        "dfUS = dfUS[['location_name','date','allbed_mean','ICUbed_mean']]\n",
        "dfUS"
      ],
      "execution_count": null,
      "outputs": []
    }
  ]
}